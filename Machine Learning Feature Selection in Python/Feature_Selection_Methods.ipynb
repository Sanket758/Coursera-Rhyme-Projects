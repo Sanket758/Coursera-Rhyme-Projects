{
  "nbformat": 4,
  "nbformat_minor": 0,
  "metadata": {
    "colab": {
      "name": "Feature Selection Methods.ipynb",
      "provenance": []
    },
    "kernelspec": {
      "name": "python3",
      "display_name": "Python 3"
    }
  },
  "cells": [
    {
      "cell_type": "code",
      "metadata": {
        "id": "ozp4BSWgSQTQ"
      },
      "source": [
        "from pandas import read_csv\n",
        "from numpy import set_printoptions\n",
        "from sklearn.feature_selection import SelectKBest\n",
        "from sklearn.feature_selection import f_classif\n",
        "import os"
      ],
      "execution_count": 1,
      "outputs": []
    },
    {
      "cell_type": "code",
      "metadata": {
        "id": "WC2Bj-qewD8K"
      },
      "source": [
        "# load data\n",
        "filename = os.getcwd()+'/datasets_228_482_diabetes.csv'\n",
        "names = ['preg', 'plas', 'pres', 'skin', 'test', 'mass', 'pedi', 'age', 'class']\n",
        "dataframe = read_csv(filename, names=names)\n",
        "array = dataframe.values\n",
        "X = array[:,0:8]\n",
        "Y = array[:,8]"
      ],
      "execution_count": 2,
      "outputs": []
    },
    {
      "cell_type": "markdown",
      "metadata": {
        "id": "y2EGKMdGwitX"
      },
      "source": [
        "## Univariate Feature selection with SelectKBest"
      ]
    },
    {
      "cell_type": "code",
      "metadata": {
        "id": "e-gIc0qBwIbq"
      },
      "source": [
        "# feature extraction\n",
        "test = SelectKBest(score_func=f_classif, k=4) #f_classif can be replaced by other methods like chi squared\n",
        "fit = test.fit(X, Y)"
      ],
      "execution_count": 3,
      "outputs": []
    },
    {
      "cell_type": "code",
      "metadata": {
        "id": "cTiWXjRTwN3I",
        "outputId": "00ebbe64-5676-4241-a1f5-84099d8b6cc5",
        "colab": {
          "base_uri": "https://localhost:8080/",
          "height": 34
        }
      },
      "source": [
        "# summarize scores\n",
        "set_printoptions(precision=3)\n",
        "print(fit.scores_)\n",
        "features = fit.transform(X)"
      ],
      "execution_count": 4,
      "outputs": [
        {
          "output_type": "stream",
          "text": [
            "[ 39.67  213.162   3.257   4.304  13.281  71.772  23.871  46.141]\n"
          ],
          "name": "stdout"
        }
      ]
    },
    {
      "cell_type": "code",
      "metadata": {
        "id": "Ucav738zwOzF",
        "outputId": "9cb7ffb0-ad50-4671-b712-1b920e31f4b6",
        "colab": {
          "base_uri": "https://localhost:8080/",
          "height": 102
        }
      },
      "source": [
        "# summarize selected features\n",
        "print(features[0:5,:])"
      ],
      "execution_count": 5,
      "outputs": [
        {
          "output_type": "stream",
          "text": [
            "[[  6.  148.   33.6  50. ]\n",
            " [  1.   85.   26.6  31. ]\n",
            " [  8.  183.   23.3  32. ]\n",
            " [  1.   89.   28.1  21. ]\n",
            " [  0.  137.   43.1  33. ]]\n"
          ],
          "name": "stdout"
        }
      ]
    },
    {
      "cell_type": "markdown",
      "metadata": {
        "id": "RN1-mc8Gy9el"
      },
      "source": [
        "## Feature selection using Recursive Feature elimination"
      ]
    },
    {
      "cell_type": "code",
      "metadata": {
        "id": "Risr2TWVy8u5"
      },
      "source": [
        "from sklearn.feature_selection import RFE\n",
        "from sklearn.linear_model import LogisticRegression\n",
        "import warnings\n",
        "warnings.filterwarnings('ignore')"
      ],
      "execution_count": 21,
      "outputs": []
    },
    {
      "cell_type": "code",
      "metadata": {
        "id": "Sp0GimIPyLQG",
        "outputId": "45d78033-3a79-49a8-a367-785e53f7ff8f",
        "colab": {
          "base_uri": "https://localhost:8080/",
          "height": 68
        }
      },
      "source": [
        "model = LogisticRegression(solver='lbfgs')\n",
        "rfe = RFE(model, 3)\n",
        "fit = rfe.fit(X, Y)\n",
        "print('Num of Features:', fit.n_features_)\n",
        "print('Selected Features: ', fit.support_)\n",
        "print('Feature Ranking: ',fit.ranking_)"
      ],
      "execution_count": 22,
      "outputs": [
        {
          "output_type": "stream",
          "text": [
            "Num of Features: 3\n",
            "Selected Features:  [ True False False False False  True  True False]\n",
            "Feature Ranking:  [1 2 4 5 6 1 1 3]\n"
          ],
          "name": "stdout"
        }
      ]
    },
    {
      "cell_type": "code",
      "metadata": {
        "id": "z30Xg9hG0NEy",
        "outputId": "01bf329c-693e-4622-8631-04d77af47bf1",
        "colab": {
          "base_uri": "https://localhost:8080/",
          "height": 34
        }
      },
      "source": [
        "print(names)"
      ],
      "execution_count": 23,
      "outputs": [
        {
          "output_type": "stream",
          "text": [
            "['preg', 'plas', 'pres', 'skin', 'test', 'mass', 'pedi', 'age', 'class']\n"
          ],
          "name": "stdout"
        }
      ]
    },
    {
      "cell_type": "markdown",
      "metadata": {
        "id": "sbUehkgW01j8"
      },
      "source": [
        "So it selected 3 features, \"preg, pedi and age\""
      ]
    },
    {
      "cell_type": "markdown",
      "metadata": {
        "id": "QHQWTWyl1E48"
      },
      "source": [
        "## Feature importance using Bagged decision trees"
      ]
    },
    {
      "cell_type": "code",
      "metadata": {
        "id": "1JafF1Wt0vlX"
      },
      "source": [
        "from sklearn.ensemble import ExtraTreesClassifier"
      ],
      "execution_count": 24,
      "outputs": []
    },
    {
      "cell_type": "code",
      "metadata": {
        "id": "QkvE29P91PrI",
        "outputId": "b5b9d833-90ab-4e7c-b29b-50bdf2892e6d",
        "colab": {
          "base_uri": "https://localhost:8080/",
          "height": 34
        }
      },
      "source": [
        "model = ExtraTreesClassifier(n_estimators=10)\n",
        "model.fit(X, Y)\n",
        "print('Feature importances:',model.feature_importances_)"
      ],
      "execution_count": 26,
      "outputs": [
        {
          "output_type": "stream",
          "text": [
            "Feature importances: [0.111 0.223 0.105 0.095 0.079 0.132 0.121 0.133]\n"
          ],
          "name": "stdout"
        }
      ]
    },
    {
      "cell_type": "markdown",
      "metadata": {
        "id": "A3TS-sGA2c1f"
      },
      "source": [
        "## Reducing dimensionality using PCA"
      ]
    },
    {
      "cell_type": "code",
      "metadata": {
        "id": "0uJd8UBw2GwO"
      },
      "source": [
        "from sklearn.decomposition import PCA"
      ],
      "execution_count": 30,
      "outputs": []
    },
    {
      "cell_type": "code",
      "metadata": {
        "id": "UHR8Y6vx2vSe",
        "outputId": "eb2d37f5-d37b-493e-dc77-9cbb8c7c8a05",
        "colab": {
          "base_uri": "https://localhost:8080/",
          "height": 136
        }
      },
      "source": [
        "pca = PCA(n_components=3)\n",
        "fit = pca.fit(X)\n",
        "\n",
        "print('Explained Variance: ',fit.explained_variance_ratio_)\n",
        "print(fit.components_)"
      ],
      "execution_count": 32,
      "outputs": [
        {
          "output_type": "stream",
          "text": [
            "Explained Variance:  [0.889 0.062 0.026]\n",
            "[[-2.022e-03  9.781e-02  1.609e-02  6.076e-02  9.931e-01  1.401e-02\n",
            "   5.372e-04 -3.565e-03]\n",
            " [-2.265e-02 -9.722e-01 -1.419e-01  5.786e-02  9.463e-02 -4.697e-02\n",
            "  -8.168e-04 -1.402e-01]\n",
            " [-2.246e-02  1.434e-01 -9.225e-01 -3.070e-01  2.098e-02 -1.324e-01\n",
            "  -6.400e-04 -1.255e-01]]\n"
          ],
          "name": "stdout"
        }
      ]
    },
    {
      "cell_type": "markdown",
      "metadata": {
        "id": "VzksAIC-3hhe"
      },
      "source": [
        "## Implementing LASSO regression(uses l1 penalty)"
      ]
    },
    {
      "cell_type": "code",
      "metadata": {
        "id": "ReFnnmrx3G_p"
      },
      "source": [
        "import matplotlib.pyplot as plt\n",
        "from sklearn.linear_model import Lasso\n",
        "from sklearn.model_selection import GridSearchCV"
      ],
      "execution_count": 35,
      "outputs": []
    },
    {
      "cell_type": "code",
      "metadata": {
        "id": "PGNFki4331yz",
        "outputId": "59292eb8-de70-4767-8c01-ee5079e4e034",
        "colab": {
          "base_uri": "https://localhost:8080/",
          "height": 51
        }
      },
      "source": [
        "parameters = {'alpha':[0.01,0.001,0.0001]}\n",
        "lasso_regressor = GridSearchCV(Lasso(), parameters, scoring='neg_mean_squared_error',cv=5)\n",
        "lasso_regressor.fit(X, Y)\n",
        "print(lasso_regressor.best_params_)\n",
        "print(lasso_regressor.best_score_)"
      ],
      "execution_count": 37,
      "outputs": [
        {
          "output_type": "stream",
          "text": [
            "{'alpha': 0.0001}\n",
            "-0.1625266035931419\n"
          ],
          "name": "stdout"
        }
      ]
    }
  ]
}