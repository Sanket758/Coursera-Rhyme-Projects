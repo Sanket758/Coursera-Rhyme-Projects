{
  "nbformat": 4,
  "nbformat_minor": 0,
  "metadata": {
    "kernelspec": {
      "display_name": "Python 3",
      "language": "python",
      "name": "python3"
    },
    "language_info": {
      "codemirror_mode": {
        "name": "ipython",
        "version": 3
      },
      "file_extension": ".py",
      "mimetype": "text/x-python",
      "name": "python",
      "nbconvert_exporter": "python",
      "pygments_lexer": "ipython3",
      "version": "3.7.3"
    },
    "colab": {
      "name": "TensorFlow Beginner - Predicting House Prices with Regression.ipynb",
      "provenance": []
    }
  },
  "cells": [
    {
      "cell_type": "markdown",
      "metadata": {
        "id": "k_9PZwodlqm-"
      },
      "source": [
        "# Task 1: Introduction\n",
        "\n",
        "---\n",
        "\n",
        "For this project, we are going to work on evaluating price of houses given the following features:\n",
        "\n",
        "1. Year of sale of the house\n",
        "2. The age of the house at the time of sale\n",
        "3. Distance from city center\n",
        "4. Number of stores in the locality\n",
        "5. The latitude\n",
        "6. The longitude\n",
        "\n",
        "![Regression](/content/regression.png)\n",
        "\n",
        "Note: This notebook uses `python 3` and these packages: `tensorflow`, `pandas`, `matplotlib`, `scikit-learn`."
      ]
    },
    {
      "cell_type": "markdown",
      "metadata": {
        "id": "TGmzX_2OlqnC"
      },
      "source": [
        "## 1.1: Importing Libraries & Helper Functions\n",
        "\n",
        "First of all, we will need to import some libraries and helper functions. This includes TensorFlow and some utility functions that I've written to save time."
      ]
    },
    {
      "cell_type": "code",
      "metadata": {
        "id": "EGb-rbX8lqnG",
        "outputId": "3eb2cfce-db58-4040-891f-4db75b3dcf6c",
        "colab": {
          "base_uri": "https://localhost:8080/",
          "height": 34
        }
      },
      "source": [
        "import pandas as pd\n",
        "import matplotlib.pyplot as plt\n",
        "import tensorflow as tf\n",
        "\n",
        "from utils import *\n",
        "from sklearn.model_selection import train_test_split\n",
        "from tensorflow.keras.models import Sequential\n",
        "from tensorflow.keras.layers import Dense, Dropout\n",
        "from tensorflow.keras.callbacks import EarlyStopping, LambdaCallback\n",
        "\n",
        "%matplotlib inline\n",
        "#tf.logging.set_verbosity(tf.logging.ERROR)\n",
        "import os\n",
        "os.environ['TF_CPP_MIN_LOG_LEVEL'] = '2' \n",
        "\n",
        "print('Libraries imported.')"
      ],
      "execution_count": 10,
      "outputs": [
        {
          "output_type": "stream",
          "text": [
            "Libraries imported.\n"
          ],
          "name": "stdout"
        }
      ]
    },
    {
      "cell_type": "markdown",
      "metadata": {
        "id": "lkJaRzyrlqnd"
      },
      "source": [
        "# Task 2: Importing the Data"
      ]
    },
    {
      "cell_type": "markdown",
      "metadata": {
        "id": "8quIy9S5lqng"
      },
      "source": [
        "## 2.1: Importing the Data\n",
        "\n",
        "The dataset is saved in a `data.csv` file. We will use `pandas` to take a look at some of the rows."
      ]
    },
    {
      "cell_type": "code",
      "metadata": {
        "id": "EsXNVrIqlqnj",
        "outputId": "ee897de5-58ff-42a4-8f20-c63f7c04d0cd",
        "colab": {
          "base_uri": "https://localhost:8080/",
          "height": 142
        }
      },
      "source": [
        "df = pd.read_csv('data.csv', names = column_names)\n",
        "df.head(3) #prints first 3 lines of the dattaset"
      ],
      "execution_count": 11,
      "outputs": [
        {
          "output_type": "execute_result",
          "data": {
            "text/html": [
              "<div>\n",
              "<style scoped>\n",
              "    .dataframe tbody tr th:only-of-type {\n",
              "        vertical-align: middle;\n",
              "    }\n",
              "\n",
              "    .dataframe tbody tr th {\n",
              "        vertical-align: top;\n",
              "    }\n",
              "\n",
              "    .dataframe thead th {\n",
              "        text-align: right;\n",
              "    }\n",
              "</style>\n",
              "<table border=\"1\" class=\"dataframe\">\n",
              "  <thead>\n",
              "    <tr style=\"text-align: right;\">\n",
              "      <th></th>\n",
              "      <th>serial</th>\n",
              "      <th>date</th>\n",
              "      <th>age</th>\n",
              "      <th>distance</th>\n",
              "      <th>stores</th>\n",
              "      <th>latitude</th>\n",
              "      <th>longitude</th>\n",
              "      <th>price</th>\n",
              "    </tr>\n",
              "  </thead>\n",
              "  <tbody>\n",
              "    <tr>\n",
              "      <th>0</th>\n",
              "      <td>0</td>\n",
              "      <td>2009</td>\n",
              "      <td>21</td>\n",
              "      <td>9</td>\n",
              "      <td>6</td>\n",
              "      <td>84</td>\n",
              "      <td>121</td>\n",
              "      <td>14264</td>\n",
              "    </tr>\n",
              "    <tr>\n",
              "      <th>1</th>\n",
              "      <td>1</td>\n",
              "      <td>2007</td>\n",
              "      <td>4</td>\n",
              "      <td>2</td>\n",
              "      <td>3</td>\n",
              "      <td>86</td>\n",
              "      <td>121</td>\n",
              "      <td>12032</td>\n",
              "    </tr>\n",
              "    <tr>\n",
              "      <th>2</th>\n",
              "      <td>2</td>\n",
              "      <td>2016</td>\n",
              "      <td>18</td>\n",
              "      <td>3</td>\n",
              "      <td>7</td>\n",
              "      <td>90</td>\n",
              "      <td>120</td>\n",
              "      <td>13560</td>\n",
              "    </tr>\n",
              "  </tbody>\n",
              "</table>\n",
              "</div>"
            ],
            "text/plain": [
              "   serial  date  age  distance  stores  latitude  longitude  price\n",
              "0       0  2009   21         9       6        84        121  14264\n",
              "1       1  2007    4         2       3        86        121  12032\n",
              "2       2  2016   18         3       7        90        120  13560"
            ]
          },
          "metadata": {
            "tags": []
          },
          "execution_count": 11
        }
      ]
    },
    {
      "cell_type": "markdown",
      "metadata": {
        "id": "-sIzhO_Ylqnx"
      },
      "source": [
        "## 2.2: Check Missing Data\n",
        "\n",
        "It's a good practice to check if the data has any missing values. In real world data, this is quite common and must be taken care of before any data pre-processing or model training."
      ]
    },
    {
      "cell_type": "code",
      "metadata": {
        "id": "J-35jXOClqn0",
        "outputId": "26e7b932-38d3-4354-b920-d4dc995dfa32",
        "colab": {
          "base_uri": "https://localhost:8080/",
          "height": 170
        }
      },
      "source": [
        "df.isna().sum()"
      ],
      "execution_count": 12,
      "outputs": [
        {
          "output_type": "execute_result",
          "data": {
            "text/plain": [
              "serial       0\n",
              "date         0\n",
              "age          0\n",
              "distance     0\n",
              "stores       0\n",
              "latitude     0\n",
              "longitude    0\n",
              "price        0\n",
              "dtype: int64"
            ]
          },
          "metadata": {
            "tags": []
          },
          "execution_count": 12
        }
      ]
    },
    {
      "cell_type": "markdown",
      "metadata": {
        "id": "4tGmw93Hlqn_"
      },
      "source": [
        "# Task 3: Data Normalization"
      ]
    },
    {
      "cell_type": "markdown",
      "metadata": {
        "id": "QaBBo1sDlqoB"
      },
      "source": [
        "## 3.1: Data Normalization\n",
        "\n",
        "We can make it easier for optimization algorithms to find minimas by normalizing the data before training a model."
      ]
    },
    {
      "cell_type": "code",
      "metadata": {
        "id": "kwHPbHe_lqoD",
        "outputId": "ceca0668-5aa3-494e-f4a7-0408ce993189",
        "colab": {
          "base_uri": "https://localhost:8080/",
          "height": 204
        }
      },
      "source": [
        "df = df.iloc[:, 1:]\n",
        "df_norm = (df - df.mean())/df.std()\n",
        "df_norm.head()"
      ],
      "execution_count": 13,
      "outputs": [
        {
          "output_type": "execute_result",
          "data": {
            "text/html": [
              "<div>\n",
              "<style scoped>\n",
              "    .dataframe tbody tr th:only-of-type {\n",
              "        vertical-align: middle;\n",
              "    }\n",
              "\n",
              "    .dataframe tbody tr th {\n",
              "        vertical-align: top;\n",
              "    }\n",
              "\n",
              "    .dataframe thead th {\n",
              "        text-align: right;\n",
              "    }\n",
              "</style>\n",
              "<table border=\"1\" class=\"dataframe\">\n",
              "  <thead>\n",
              "    <tr style=\"text-align: right;\">\n",
              "      <th></th>\n",
              "      <th>date</th>\n",
              "      <th>age</th>\n",
              "      <th>distance</th>\n",
              "      <th>stores</th>\n",
              "      <th>latitude</th>\n",
              "      <th>longitude</th>\n",
              "      <th>price</th>\n",
              "    </tr>\n",
              "  </thead>\n",
              "  <tbody>\n",
              "    <tr>\n",
              "      <th>0</th>\n",
              "      <td>0.015978</td>\n",
              "      <td>0.181384</td>\n",
              "      <td>1.257002</td>\n",
              "      <td>0.345224</td>\n",
              "      <td>-0.307212</td>\n",
              "      <td>-1.260799</td>\n",
              "      <td>0.350088</td>\n",
              "    </tr>\n",
              "    <tr>\n",
              "      <th>1</th>\n",
              "      <td>-0.350485</td>\n",
              "      <td>-1.319118</td>\n",
              "      <td>-0.930610</td>\n",
              "      <td>-0.609312</td>\n",
              "      <td>0.325301</td>\n",
              "      <td>-1.260799</td>\n",
              "      <td>-1.836486</td>\n",
              "    </tr>\n",
              "    <tr>\n",
              "      <th>2</th>\n",
              "      <td>1.298598</td>\n",
              "      <td>-0.083410</td>\n",
              "      <td>-0.618094</td>\n",
              "      <td>0.663402</td>\n",
              "      <td>1.590328</td>\n",
              "      <td>-1.576456</td>\n",
              "      <td>-0.339584</td>\n",
              "    </tr>\n",
              "    <tr>\n",
              "      <th>3</th>\n",
              "      <td>-1.266643</td>\n",
              "      <td>-0.524735</td>\n",
              "      <td>-0.930610</td>\n",
              "      <td>-0.927491</td>\n",
              "      <td>-1.572238</td>\n",
              "      <td>0.948803</td>\n",
              "      <td>-1.839425</td>\n",
              "    </tr>\n",
              "    <tr>\n",
              "      <th>4</th>\n",
              "      <td>0.932135</td>\n",
              "      <td>0.534444</td>\n",
              "      <td>0.006938</td>\n",
              "      <td>0.981581</td>\n",
              "      <td>-1.255981</td>\n",
              "      <td>-0.945141</td>\n",
              "      <td>0.245266</td>\n",
              "    </tr>\n",
              "  </tbody>\n",
              "</table>\n",
              "</div>"
            ],
            "text/plain": [
              "       date       age  distance    stores  latitude  longitude     price\n",
              "0  0.015978  0.181384  1.257002  0.345224 -0.307212  -1.260799  0.350088\n",
              "1 -0.350485 -1.319118 -0.930610 -0.609312  0.325301  -1.260799 -1.836486\n",
              "2  1.298598 -0.083410 -0.618094  0.663402  1.590328  -1.576456 -0.339584\n",
              "3 -1.266643 -0.524735 -0.930610 -0.927491 -1.572238   0.948803 -1.839425\n",
              "4  0.932135  0.534444  0.006938  0.981581 -1.255981  -0.945141  0.245266"
            ]
          },
          "metadata": {
            "tags": []
          },
          "execution_count": 13
        }
      ]
    },
    {
      "cell_type": "markdown",
      "metadata": {
        "id": "i6TR0BzrlqoK"
      },
      "source": [
        "## 3.2: Convert Label Value\n",
        "\n",
        "Because we are using normalized values for the labels, we will get the predictions back from a trained model in the same distribution. So, we need to convert the predicted values back to the original distribution if we want predicted prices."
      ]
    },
    {
      "cell_type": "code",
      "metadata": {
        "id": "DIzw7SYQlqoM",
        "outputId": "90fc4ac2-ad2b-4afb-9580-cbd84a30199e",
        "colab": {
          "base_uri": "https://localhost:8080/",
          "height": 51
        }
      },
      "source": [
        "y_mean = df['price'].mean()\n",
        "y_std = df.price.std()\n",
        "\n",
        "def convert_label_value(pred):\n",
        "    return int(pred * y_std + y_mean)\n",
        "\n",
        "print('Actual: ',df.price[0])\n",
        "print('Converted: ',convert_label_value(0.350088))"
      ],
      "execution_count": 14,
      "outputs": [
        {
          "output_type": "stream",
          "text": [
            "Actual:  14264\n",
            "Converted:  14263\n"
          ],
          "name": "stdout"
        }
      ]
    },
    {
      "cell_type": "markdown",
      "metadata": {
        "id": "eBSvZ9AzlqoT"
      },
      "source": [
        "# Task 4: Create Training and Test Sets"
      ]
    },
    {
      "cell_type": "markdown",
      "metadata": {
        "id": "xYT_oeWFlqoU"
      },
      "source": [
        "## 4.1: Select Features\n",
        "\n",
        "Make sure to remove the column __price__ from the list of features as it is the label and should not be used as a feature."
      ]
    },
    {
      "cell_type": "code",
      "metadata": {
        "id": "sgC1aaj-lqoW",
        "outputId": "6dd0d2f8-eba2-4ea1-81e0-6361036142e2",
        "colab": {
          "base_uri": "https://localhost:8080/",
          "height": 204
        }
      },
      "source": [
        "x = df_norm.drop('price', axis=1)\n",
        "x.head()"
      ],
      "execution_count": 15,
      "outputs": [
        {
          "output_type": "execute_result",
          "data": {
            "text/html": [
              "<div>\n",
              "<style scoped>\n",
              "    .dataframe tbody tr th:only-of-type {\n",
              "        vertical-align: middle;\n",
              "    }\n",
              "\n",
              "    .dataframe tbody tr th {\n",
              "        vertical-align: top;\n",
              "    }\n",
              "\n",
              "    .dataframe thead th {\n",
              "        text-align: right;\n",
              "    }\n",
              "</style>\n",
              "<table border=\"1\" class=\"dataframe\">\n",
              "  <thead>\n",
              "    <tr style=\"text-align: right;\">\n",
              "      <th></th>\n",
              "      <th>date</th>\n",
              "      <th>age</th>\n",
              "      <th>distance</th>\n",
              "      <th>stores</th>\n",
              "      <th>latitude</th>\n",
              "      <th>longitude</th>\n",
              "    </tr>\n",
              "  </thead>\n",
              "  <tbody>\n",
              "    <tr>\n",
              "      <th>0</th>\n",
              "      <td>0.015978</td>\n",
              "      <td>0.181384</td>\n",
              "      <td>1.257002</td>\n",
              "      <td>0.345224</td>\n",
              "      <td>-0.307212</td>\n",
              "      <td>-1.260799</td>\n",
              "    </tr>\n",
              "    <tr>\n",
              "      <th>1</th>\n",
              "      <td>-0.350485</td>\n",
              "      <td>-1.319118</td>\n",
              "      <td>-0.930610</td>\n",
              "      <td>-0.609312</td>\n",
              "      <td>0.325301</td>\n",
              "      <td>-1.260799</td>\n",
              "    </tr>\n",
              "    <tr>\n",
              "      <th>2</th>\n",
              "      <td>1.298598</td>\n",
              "      <td>-0.083410</td>\n",
              "      <td>-0.618094</td>\n",
              "      <td>0.663402</td>\n",
              "      <td>1.590328</td>\n",
              "      <td>-1.576456</td>\n",
              "    </tr>\n",
              "    <tr>\n",
              "      <th>3</th>\n",
              "      <td>-1.266643</td>\n",
              "      <td>-0.524735</td>\n",
              "      <td>-0.930610</td>\n",
              "      <td>-0.927491</td>\n",
              "      <td>-1.572238</td>\n",
              "      <td>0.948803</td>\n",
              "    </tr>\n",
              "    <tr>\n",
              "      <th>4</th>\n",
              "      <td>0.932135</td>\n",
              "      <td>0.534444</td>\n",
              "      <td>0.006938</td>\n",
              "      <td>0.981581</td>\n",
              "      <td>-1.255981</td>\n",
              "      <td>-0.945141</td>\n",
              "    </tr>\n",
              "  </tbody>\n",
              "</table>\n",
              "</div>"
            ],
            "text/plain": [
              "       date       age  distance    stores  latitude  longitude\n",
              "0  0.015978  0.181384  1.257002  0.345224 -0.307212  -1.260799\n",
              "1 -0.350485 -1.319118 -0.930610 -0.609312  0.325301  -1.260799\n",
              "2  1.298598 -0.083410 -0.618094  0.663402  1.590328  -1.576456\n",
              "3 -1.266643 -0.524735 -0.930610 -0.927491 -1.572238   0.948803\n",
              "4  0.932135  0.534444  0.006938  0.981581 -1.255981  -0.945141"
            ]
          },
          "metadata": {
            "tags": []
          },
          "execution_count": 15
        }
      ]
    },
    {
      "cell_type": "markdown",
      "metadata": {
        "id": "JNRJPvhblqoa"
      },
      "source": [
        "\n",
        "## 4.2: Select Labels"
      ]
    },
    {
      "cell_type": "code",
      "metadata": {
        "id": "O_xK8W_9lqob",
        "outputId": "14ef53dc-55a6-4591-f425-8cd4b013092f",
        "colab": {
          "base_uri": "https://localhost:8080/",
          "height": 119
        }
      },
      "source": [
        "y = df_norm.pop('price')\n",
        "y.head()"
      ],
      "execution_count": 16,
      "outputs": [
        {
          "output_type": "execute_result",
          "data": {
            "text/plain": [
              "0    0.350088\n",
              "1   -1.836486\n",
              "2   -0.339584\n",
              "3   -1.839425\n",
              "4    0.245266\n",
              "Name: price, dtype: float64"
            ]
          },
          "metadata": {
            "tags": []
          },
          "execution_count": 16
        }
      ]
    },
    {
      "cell_type": "markdown",
      "metadata": {
        "id": "ziJ9AFXZlqof"
      },
      "source": [
        "## 4.3: Feature and Label Values\n",
        "\n",
        "We will need to extract just the numeric values for the features and labels as the TensorFlow model will expect just numeric values as input."
      ]
    },
    {
      "cell_type": "code",
      "metadata": {
        "id": "urBseoK0lqog",
        "outputId": "8900e33f-e569-48d9-e210-1bc386d6370e",
        "colab": {
          "base_uri": "https://localhost:8080/",
          "height": 34
        }
      },
      "source": [
        "X_data = x.values\n",
        "y_data = y.values\n",
        "\n",
        "X_data.shape, y_data.shape"
      ],
      "execution_count": 17,
      "outputs": [
        {
          "output_type": "execute_result",
          "data": {
            "text/plain": [
              "((5000, 6), (5000,))"
            ]
          },
          "metadata": {
            "tags": []
          },
          "execution_count": 17
        }
      ]
    },
    {
      "cell_type": "markdown",
      "metadata": {
        "id": "f5si-V7clqok"
      },
      "source": [
        "## 4.4: Train and Test Split\n",
        "\n",
        "We will keep some part of the data aside as a __test__ set. The model will not use this set during training and it will be used only for checking the performance of the model in trained and un-trained states. This way, we can make sure that we are going in the right direction with our model training."
      ]
    },
    {
      "cell_type": "code",
      "metadata": {
        "id": "8VYdmp_5lqol"
      },
      "source": [
        "X_train, X_test, y_train, y_test = train_test_split(X_data, y_data, test_size=0.15, random_state=42)"
      ],
      "execution_count": 18,
      "outputs": []
    },
    {
      "cell_type": "markdown",
      "metadata": {
        "id": "tg_IOGRxlqoq"
      },
      "source": [
        "# Task 5: Create the Model"
      ]
    },
    {
      "cell_type": "markdown",
      "metadata": {
        "id": "PN16jgy5lqoq"
      },
      "source": [
        "## 5.1: Create the Model\n",
        "\n",
        "Let's write a function that returns an untrained model of a certain architecture."
      ]
    },
    {
      "cell_type": "code",
      "metadata": {
        "id": "BUdLl5ltlqor",
        "outputId": "c1e02c15-6573-47ef-c3d0-2183f6e2e00c",
        "colab": {
          "base_uri": "https://localhost:8080/",
          "height": 289
        }
      },
      "source": [
        "def create_model():\n",
        "    model = Sequential([\n",
        "                        Dense(10, input_shape=(6,), activation='relu'),\n",
        "                        Dense(20, activation='relu'),\n",
        "                        Dense(5, activation='relu'),\n",
        "                        Dense(1)\n",
        "    ])\n",
        "    model.compile(\n",
        "        loss='mse',\n",
        "        optimizer='adam'\n",
        "    )\n",
        "    return model\n",
        "\n",
        "create_model().summary()"
      ],
      "execution_count": 20,
      "outputs": [
        {
          "output_type": "stream",
          "text": [
            "Model: \"sequential\"\n",
            "_________________________________________________________________\n",
            "Layer (type)                 Output Shape              Param #   \n",
            "=================================================================\n",
            "dense (Dense)                (None, 10)                70        \n",
            "_________________________________________________________________\n",
            "dense_1 (Dense)              (None, 20)                220       \n",
            "_________________________________________________________________\n",
            "dense_2 (Dense)              (None, 5)                 105       \n",
            "_________________________________________________________________\n",
            "dense_3 (Dense)              (None, 1)                 6         \n",
            "=================================================================\n",
            "Total params: 401\n",
            "Trainable params: 401\n",
            "Non-trainable params: 0\n",
            "_________________________________________________________________\n"
          ],
          "name": "stdout"
        }
      ]
    },
    {
      "cell_type": "markdown",
      "metadata": {
        "id": "p78TO34vlqov"
      },
      "source": [
        "# Task 6: Model Training"
      ]
    },
    {
      "cell_type": "markdown",
      "metadata": {
        "id": "0BsHE2NTlqow"
      },
      "source": [
        "## 6.1: Model Training\n",
        "\n",
        "We can use an `EarlyStopping` callback from Keras to stop the model training if the validation loss stops decreasing for a few epochs."
      ]
    },
    {
      "cell_type": "code",
      "metadata": {
        "id": "K2jh-vXDlqox",
        "outputId": "5b285a64-5dd2-4f74-831b-fe48a64c1057",
        "colab": {
          "base_uri": "https://localhost:8080/",
          "height": 1000
        }
      },
      "source": [
        "early_stop = EarlyStopping(monitor='val_loss', patience=5)\n",
        "\n",
        "model = create_model()\n",
        "pred_untrained = model.predict(X_test)\n",
        "\n",
        "history = model.fit(X_train, y_train,\n",
        "                    validation_data=(X_test, y_test),\n",
        "                    epochs = 100,\n",
        "                    callbacks = [early_stop]\n",
        "                    )"
      ],
      "execution_count": 22,
      "outputs": [
        {
          "output_type": "stream",
          "text": [
            "Epoch 1/100\n",
            "133/133 [==============================] - 0s 2ms/step - loss: 0.7277 - val_loss: 0.5434\n",
            "Epoch 2/100\n",
            "133/133 [==============================] - 0s 1ms/step - loss: 0.5135 - val_loss: 0.4413\n",
            "Epoch 3/100\n",
            "133/133 [==============================] - 0s 1ms/step - loss: 0.4350 - val_loss: 0.3811\n",
            "Epoch 4/100\n",
            "133/133 [==============================] - 0s 1ms/step - loss: 0.3827 - val_loss: 0.3410\n",
            "Epoch 5/100\n",
            "133/133 [==============================] - 0s 1ms/step - loss: 0.3432 - val_loss: 0.3133\n",
            "Epoch 6/100\n",
            "133/133 [==============================] - 0s 1ms/step - loss: 0.3113 - val_loss: 0.2867\n",
            "Epoch 7/100\n",
            "133/133 [==============================] - 0s 1ms/step - loss: 0.2861 - val_loss: 0.2694\n",
            "Epoch 8/100\n",
            "133/133 [==============================] - 0s 1ms/step - loss: 0.2652 - val_loss: 0.2498\n",
            "Epoch 9/100\n",
            "133/133 [==============================] - 0s 1ms/step - loss: 0.2486 - val_loss: 0.2382\n",
            "Epoch 10/100\n",
            "133/133 [==============================] - 0s 1ms/step - loss: 0.2353 - val_loss: 0.2252\n",
            "Epoch 11/100\n",
            "133/133 [==============================] - 0s 1ms/step - loss: 0.2231 - val_loss: 0.2177\n",
            "Epoch 12/100\n",
            "133/133 [==============================] - 0s 1ms/step - loss: 0.2141 - val_loss: 0.2109\n",
            "Epoch 13/100\n",
            "133/133 [==============================] - 0s 1ms/step - loss: 0.2069 - val_loss: 0.2042\n",
            "Epoch 14/100\n",
            "133/133 [==============================] - 0s 1ms/step - loss: 0.1995 - val_loss: 0.2026\n",
            "Epoch 15/100\n",
            "133/133 [==============================] - 0s 1ms/step - loss: 0.1928 - val_loss: 0.1987\n",
            "Epoch 16/100\n",
            "133/133 [==============================] - 0s 1ms/step - loss: 0.1879 - val_loss: 0.1899\n",
            "Epoch 17/100\n",
            "133/133 [==============================] - 0s 1ms/step - loss: 0.1838 - val_loss: 0.1932\n",
            "Epoch 18/100\n",
            "133/133 [==============================] - 0s 1ms/step - loss: 0.1797 - val_loss: 0.1830\n",
            "Epoch 19/100\n",
            "133/133 [==============================] - 0s 1ms/step - loss: 0.1772 - val_loss: 0.1822\n",
            "Epoch 20/100\n",
            "133/133 [==============================] - 0s 1ms/step - loss: 0.1745 - val_loss: 0.1797\n",
            "Epoch 21/100\n",
            "133/133 [==============================] - 0s 1ms/step - loss: 0.1720 - val_loss: 0.1778\n",
            "Epoch 22/100\n",
            "133/133 [==============================] - 0s 1ms/step - loss: 0.1687 - val_loss: 0.1783\n",
            "Epoch 23/100\n",
            "133/133 [==============================] - 0s 1ms/step - loss: 0.1662 - val_loss: 0.1737\n",
            "Epoch 24/100\n",
            "133/133 [==============================] - 0s 1ms/step - loss: 0.1649 - val_loss: 0.1743\n",
            "Epoch 25/100\n",
            "133/133 [==============================] - 0s 1ms/step - loss: 0.1633 - val_loss: 0.1716\n",
            "Epoch 26/100\n",
            "133/133 [==============================] - 0s 1ms/step - loss: 0.1618 - val_loss: 0.1739\n",
            "Epoch 27/100\n",
            "133/133 [==============================] - 0s 1ms/step - loss: 0.1609 - val_loss: 0.1701\n",
            "Epoch 28/100\n",
            "133/133 [==============================] - 0s 1ms/step - loss: 0.1603 - val_loss: 0.1676\n",
            "Epoch 29/100\n",
            "133/133 [==============================] - 0s 1ms/step - loss: 0.1590 - val_loss: 0.1676\n",
            "Epoch 30/100\n",
            "133/133 [==============================] - 0s 1ms/step - loss: 0.1583 - val_loss: 0.1660\n",
            "Epoch 31/100\n",
            "133/133 [==============================] - 0s 1ms/step - loss: 0.1579 - val_loss: 0.1659\n",
            "Epoch 32/100\n",
            "133/133 [==============================] - 0s 1ms/step - loss: 0.1576 - val_loss: 0.1651\n",
            "Epoch 33/100\n",
            "133/133 [==============================] - 0s 1ms/step - loss: 0.1567 - val_loss: 0.1647\n",
            "Epoch 34/100\n",
            "133/133 [==============================] - 0s 1ms/step - loss: 0.1554 - val_loss: 0.1668\n",
            "Epoch 35/100\n",
            "133/133 [==============================] - 0s 1ms/step - loss: 0.1550 - val_loss: 0.1654\n",
            "Epoch 36/100\n",
            "133/133 [==============================] - 0s 1ms/step - loss: 0.1550 - val_loss: 0.1657\n",
            "Epoch 37/100\n",
            "133/133 [==============================] - 0s 1ms/step - loss: 0.1547 - val_loss: 0.1649\n",
            "Epoch 38/100\n",
            "133/133 [==============================] - 0s 1ms/step - loss: 0.1542 - val_loss: 0.1639\n",
            "Epoch 39/100\n",
            "133/133 [==============================] - 0s 1ms/step - loss: 0.1536 - val_loss: 0.1663\n",
            "Epoch 40/100\n",
            "133/133 [==============================] - 0s 1ms/step - loss: 0.1530 - val_loss: 0.1690\n",
            "Epoch 41/100\n",
            "133/133 [==============================] - 0s 1ms/step - loss: 0.1522 - val_loss: 0.1646\n",
            "Epoch 42/100\n",
            "133/133 [==============================] - 0s 1ms/step - loss: 0.1525 - val_loss: 0.1631\n",
            "Epoch 43/100\n",
            "133/133 [==============================] - 0s 1ms/step - loss: 0.1523 - val_loss: 0.1638\n",
            "Epoch 44/100\n",
            "133/133 [==============================] - 0s 1ms/step - loss: 0.1519 - val_loss: 0.1632\n",
            "Epoch 45/100\n",
            "133/133 [==============================] - 0s 1ms/step - loss: 0.1523 - val_loss: 0.1628\n",
            "Epoch 46/100\n",
            "133/133 [==============================] - 0s 1ms/step - loss: 0.1514 - val_loss: 0.1624\n",
            "Epoch 47/100\n",
            "133/133 [==============================] - 0s 1ms/step - loss: 0.1527 - val_loss: 0.1626\n",
            "Epoch 48/100\n",
            "133/133 [==============================] - 0s 1ms/step - loss: 0.1510 - val_loss: 0.1677\n",
            "Epoch 49/100\n",
            "133/133 [==============================] - 0s 1ms/step - loss: 0.1513 - val_loss: 0.1609\n",
            "Epoch 50/100\n",
            "133/133 [==============================] - 0s 1ms/step - loss: 0.1508 - val_loss: 0.1673\n",
            "Epoch 51/100\n",
            "133/133 [==============================] - 0s 1ms/step - loss: 0.1511 - val_loss: 0.1599\n",
            "Epoch 52/100\n",
            "133/133 [==============================] - 0s 1ms/step - loss: 0.1502 - val_loss: 0.1629\n",
            "Epoch 53/100\n",
            "133/133 [==============================] - 0s 1ms/step - loss: 0.1507 - val_loss: 0.1622\n",
            "Epoch 54/100\n",
            "133/133 [==============================] - 0s 1ms/step - loss: 0.1497 - val_loss: 0.1643\n",
            "Epoch 55/100\n",
            "133/133 [==============================] - 0s 1ms/step - loss: 0.1502 - val_loss: 0.1636\n",
            "Epoch 56/100\n",
            "133/133 [==============================] - 0s 1ms/step - loss: 0.1492 - val_loss: 0.1622\n"
          ],
          "name": "stdout"
        }
      ]
    },
    {
      "cell_type": "markdown",
      "metadata": {
        "id": "UoWJ1cwLlqo1"
      },
      "source": [
        "## 6.2: Plot Training and Validation Loss\n",
        "\n",
        "Let's use the `plot_loss` helper function to take a look training and validation loss."
      ]
    },
    {
      "cell_type": "code",
      "metadata": {
        "id": "QKQ9Ak0mlqo1",
        "outputId": "50e98960-adb1-4b8a-9670-28fa23a3b0c8",
        "colab": {
          "base_uri": "https://localhost:8080/",
          "height": 497
        }
      },
      "source": [
        "plot_loss(history)"
      ],
      "execution_count": 23,
      "outputs": [
        {
          "output_type": "display_data",
          "data": {
            "image/png": "[encoded data removed]",
            "text/plain": [
              "<Figure size 576x576 with 1 Axes>"
            ]
          },
          "metadata": {
            "tags": [],
            "needs_background": "light"
          }
        }
      ]
    },
    {
      "cell_type": "markdown",
      "metadata": {
        "id": "VqTwT_rRlqo5"
      },
      "source": [
        "# Task 7: Predictions"
      ]
    },
    {
      "cell_type": "markdown",
      "metadata": {
        "id": "av-4tvOblqo6"
      },
      "source": [
        "## 7.1: Plot Raw Predictions\n",
        "\n",
        "Let's use the `compare_predictions` helper function to compare predictions from the model when it was untrained and when it was trained."
      ]
    },
    {
      "cell_type": "code",
      "metadata": {
        "id": "nlYzbGCOlqo7",
        "outputId": "5212bd10-165d-4d83-ff2a-18596d968348",
        "colab": {
          "base_uri": "https://localhost:8080/",
          "height": 497
        }
      },
      "source": [
        "pred_trained = model.predict(X_test)\n",
        "compare_predictions(pred_untrained, pred_trained, y_test)"
      ],
      "execution_count": 25,
      "outputs": [
        {
          "output_type": "display_data",
          "data": {
            "image/png": "[encoded data removed]",
            "text/plain": [
              "<Figure size 576x576 with 1 Axes>"
            ]
          },
          "metadata": {
            "tags": [],
            "needs_background": "light"
          }
        }
      ]
    },
    {
      "cell_type": "markdown",
      "metadata": {
        "id": "j__SJwFolqo-"
      },
      "source": [
        "## 7.2: Plot Price Predictions\n",
        "\n",
        "The plot for price predictions and raw predictions will look the same with just one difference: The x and y axis scale is changed."
      ]
    },
    {
      "cell_type": "code",
      "metadata": {
        "id": "1hLbxG4alqo_",
        "outputId": "87b560f9-609b-45c3-9a01-04bef1d69629",
        "colab": {
          "base_uri": "https://localhost:8080/",
          "height": 497
        }
      },
      "source": [
        "price_untrained = [convert_label_value(y) for y in pred_untrained]\n",
        "price_trained = [convert_label_value(y) for y in pred_trained]\n",
        "price_actual = [convert_label_value(y) for y in y_test]\n",
        "compare_predictions(price_untrained, price_trained, price_actual)"
      ],
      "execution_count": 26,
      "outputs": [
        {
          "output_type": "display_data",
          "data": {
            "image/png": "[encoded data removed]",
            "text/plain": [
              "<Figure size 576x576 with 1 Axes>"
            ]
          },
          "metadata": {
            "tags": [],
            "needs_background": "light"
          }
        }
      ]
    }
  ]
}