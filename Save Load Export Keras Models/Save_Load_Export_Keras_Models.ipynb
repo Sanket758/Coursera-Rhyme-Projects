{
  "nbformat": 4,
  "nbformat_minor": 0,
  "metadata": {
    "kernelspec": {
      "display_name": "Python 3",
      "language": "python",
      "name": "python3"
    },
    "language_info": {
      "codemirror_mode": {
        "name": "ipython",
        "version": 3
      },
      "file_extension": ".py",
      "mimetype": "text/x-python",
      "name": "python",
      "nbconvert_exporter": "python",
      "pygments_lexer": "ipython3",
      "version": "3.6.8"
    },
    "colab": {
      "name": "Save Load Export Keras Models.ipynb",
      "provenance": []
    }
  },
  "cells": [
    {
      "cell_type": "markdown",
      "metadata": {
        "id": "L5ZPlRWYKS7K"
      },
      "source": [
        "# Save, Load and Export Models in Keras"
      ]
    },
    {
      "cell_type": "markdown",
      "metadata": {
        "id": "nCHnjKMUKS7Q"
      },
      "source": [
        "## Task 1: Import Libraries"
      ]
    },
    {
      "cell_type": "code",
      "metadata": {
        "id": "SghCPug3KS7U",
        "outputId": "496354a0-0072-43a4-8a63-a9b7f94cf002",
        "colab": {
          "base_uri": "https://localhost:8080/",
          "height": 51
        }
      },
      "source": [
        "import tensorflow as tf\n",
        "import numpy as np\n",
        "import os\n",
        "\n",
        "print('This notebook works with TensorFlow version:', tf.__version__)\n",
        "\n",
        "folders = ['tmp', 'models', 'model_name', 'weights']\n",
        "for folder in folders:\n",
        "    if not os.path.isdir(folder):\n",
        "        os.mkdir(folder)\n",
        "\n",
        "print(os.listdir('.'))"
      ],
      "execution_count": 31,
      "outputs": [
        {
          "output_type": "stream",
          "text": [
            "This notebook works with TensorFlow version: 2.3.0\n",
            "['.config', 'weights', 'model_name', 'tmp', 'models', 'sample_data']\n"
          ],
          "name": "stdout"
        }
      ]
    },
    {
      "cell_type": "markdown",
      "metadata": {
        "id": "KbiwxT6zKS7r"
      },
      "source": [
        "## Task 2: Create Model"
      ]
    },
    {
      "cell_type": "code",
      "metadata": {
        "id": "-5oQtJbWKS7v",
        "outputId": "5e374cc5-451d-4957-bd13-ce793b04bc36",
        "colab": {
          "base_uri": "https://localhost:8080/",
          "height": 255
        }
      },
      "source": [
        "def create_model():\n",
        "    model = tf.keras.models.Sequential([\n",
        "                                        tf.keras.layers.Dense(128, activation='relu', input_shape=(784,)),\n",
        "                                        tf.keras.layers.Dense(128, activation='relu'),\n",
        "                                        tf.keras.layers.Dense(10, activation='softmax')\n",
        "    ])\n",
        "\n",
        "    model.compile(loss='categorical_crossentropy', optimizer='adam', metrics=['acc'])\n",
        "\n",
        "    return model\n",
        "\n",
        "model = create_model()\n",
        "model.summary()"
      ],
      "execution_count": 32,
      "outputs": [
        {
          "output_type": "stream",
          "text": [
            "Model: \"sequential_8\"\n",
            "_________________________________________________________________\n",
            "Layer (type)                 Output Shape              Param #   \n",
            "=================================================================\n",
            "dense_24 (Dense)             (None, 128)               100480    \n",
            "_________________________________________________________________\n",
            "dense_25 (Dense)             (None, 128)               16512     \n",
            "_________________________________________________________________\n",
            "dense_26 (Dense)             (None, 10)                1290      \n",
            "=================================================================\n",
            "Total params: 118,282\n",
            "Trainable params: 118,282\n",
            "Non-trainable params: 0\n",
            "_________________________________________________________________\n"
          ],
          "name": "stdout"
        }
      ]
    },
    {
      "cell_type": "markdown",
      "metadata": {
        "id": "5eifoh54KS8F"
      },
      "source": [
        "## Task 3: Data Preprocessing"
      ]
    },
    {
      "cell_type": "code",
      "metadata": {
        "id": "DQjUb9d7KS8I"
      },
      "source": [
        "(X_train, y_train), (X_test, y_test) = tf.keras.datasets.fashion_mnist.load_data()\n",
        "X_train = np.reshape(X_train, (X_train.shape[0], 784)) / 255.\n",
        "X_test = np.reshape(X_test, (X_test.shape[0], 784)) / 255.\n",
        "\n",
        "y_train = tf.keras.utils.to_categorical(y_train)\n",
        "y_test = tf.keras.utils.to_categorical(y_test)"
      ],
      "execution_count": 33,
      "outputs": []
    },
    {
      "cell_type": "markdown",
      "metadata": {
        "id": "YDA_61E8KS8Z"
      },
      "source": [
        "## Task 4: Model Checkpoint During Training"
      ]
    },
    {
      "cell_type": "code",
      "metadata": {
        "id": "DW8JVV2aKS8c",
        "outputId": "3b2aeb6a-5dd3-4c1d-bf26-fbc800a382d5",
        "colab": {
          "base_uri": "https://localhost:8080/",
          "height": 85
        }
      },
      "source": [
        "checkpoint_dir = '/content/weights/'\n",
        "_ = model.fit(\n",
        "    X_train, y_train,\n",
        "    validation_data=(X_test, y_test),\n",
        "    epochs=2, batch_size=512,\n",
        "    callbacks=[\n",
        "               tf.keras.callbacks.ModelCheckpoint(\n",
        "                   os.path.join(checkpoint_dir, 'epoch_{epoch:02d}__acc__{val_acc:.4f}'),\n",
        "                   monitor = 'val_acc',\n",
        "                   save_weights_only=True,\n",
        "                   save_best_only=True\n",
        "               )\n",
        "    ]\n",
        ")"
      ],
      "execution_count": 34,
      "outputs": [
        {
          "output_type": "stream",
          "text": [
            "Epoch 1/2\n",
            "118/118 [==============================] - 1s 11ms/step - loss: 0.6722 - acc: 0.7729 - val_loss: 0.4956 - val_acc: 0.8240\n",
            "Epoch 2/2\n",
            "118/118 [==============================] - 1s 9ms/step - loss: 0.4384 - acc: 0.8462 - val_loss: 0.4386 - val_acc: 0.8422\n"
          ],
          "name": "stdout"
        }
      ]
    },
    {
      "cell_type": "code",
      "metadata": {
        "id": "IWdb2euoKS8s",
        "outputId": "cb46cce0-4676-4d31-e8a1-91b2ef408c99",
        "colab": {
          "base_uri": "https://localhost:8080/",
          "height": 102
        }
      },
      "source": [
        "os.listdir(checkpoint_dir)"
      ],
      "execution_count": 35,
      "outputs": [
        {
          "output_type": "execute_result",
          "data": {
            "text/plain": [
              "['epoch_02__acc__0.8422.data-00000-of-00001',\n",
              " 'epoch_01__acc__0.8240.index',\n",
              " 'epoch_02__acc__0.8422.index',\n",
              " 'checkpoint',\n",
              " 'epoch_01__acc__0.8240.data-00000-of-00001']"
            ]
          },
          "metadata": {
            "tags": []
          },
          "execution_count": 35
        }
      ]
    },
    {
      "cell_type": "markdown",
      "metadata": {
        "id": "PhCEjdR_KS8_"
      },
      "source": [
        "## Task 5: Load Weights"
      ]
    },
    {
      "cell_type": "code",
      "metadata": {
        "id": "8cLdfbCVKS9C",
        "outputId": "3871818d-3dbb-4f35-b98d-463b63ef46a6",
        "colab": {
          "base_uri": "https://localhost:8080/",
          "height": 34
        }
      },
      "source": [
        "model_new = create_model()\n",
        "print(model_new.evaluate(X_test, y_test, verbose=False))"
      ],
      "execution_count": 36,
      "outputs": [
        {
          "output_type": "stream",
          "text": [
            "[2.3637712001800537, 0.1005999967455864]\n"
          ],
          "name": "stdout"
        }
      ]
    },
    {
      "cell_type": "code",
      "metadata": {
        "id": "bzkmNzzTKS9N",
        "outputId": "2d5086cf-99a7-4aef-b139-32462560548e",
        "colab": {
          "base_uri": "https://localhost:8080/",
          "height": 34
        }
      },
      "source": [
        "model_new.load_weights('/weights/epoch_02__acc__0.8403')\n",
        "print(model_new.evaluate(X_test, y_test, verbose=False))"
      ],
      "execution_count": 37,
      "outputs": [
        {
          "output_type": "stream",
          "text": [
            "[0.44820472598075867, 0.8403000235557556]\n"
          ],
          "name": "stdout"
        }
      ]
    },
    {
      "cell_type": "markdown",
      "metadata": {
        "id": "76xdmCzgKS9f"
      },
      "source": [
        "## Task 6: Saving Complete Model During Training"
      ]
    },
    {
      "cell_type": "code",
      "metadata": {
        "id": "yi_b2l9EKS9g",
        "outputId": "759fea5d-d3ac-4fbc-ceb7-8c718ac946c7",
        "colab": {
          "base_uri": "https://localhost:8080/",
          "height": 85
        }
      },
      "source": [
        "models_dir = '/content/models'\n",
        "\n",
        "_ = model.fit(\n",
        "    X_train, y_train,\n",
        "    validation_data=(X_test, y_test),\n",
        "    epochs=2, batch_size=512,\n",
        "    callbacks=[\n",
        "               tf.keras.callbacks.ModelCheckpoint(\n",
        "                   os.path.join(models_dir, 'epoch_{epoch:02d}__acc__{val_acc:.4f}.h5'),\n",
        "                   monitor = 'val_acc',\n",
        "                   save_weights_only=False,\n",
        "                   save_best_only=False\n",
        "               )\n",
        "    ]\n",
        ")"
      ],
      "execution_count": 38,
      "outputs": [
        {
          "output_type": "stream",
          "text": [
            "Epoch 1/2\n",
            "118/118 [==============================] - 1s 10ms/step - loss: 0.3910 - acc: 0.8608 - val_loss: 0.4324 - val_acc: 0.8492\n",
            "Epoch 2/2\n",
            "118/118 [==============================] - 1s 10ms/step - loss: 0.3641 - acc: 0.8709 - val_loss: 0.4087 - val_acc: 0.8554\n"
          ],
          "name": "stdout"
        }
      ]
    },
    {
      "cell_type": "code",
      "metadata": {
        "id": "cAJyyfD6KS9o",
        "outputId": "8f128e4b-dd10-4d75-fe76-8cc0f0b26087",
        "colab": {
          "base_uri": "https://localhost:8080/",
          "height": 85
        }
      },
      "source": [
        "os.listdir(models_dir)"
      ],
      "execution_count": 39,
      "outputs": [
        {
          "output_type": "execute_result",
          "data": {
            "text/plain": [
              "['epoch_01__acc__0.8492.h5',\n",
              " 'epoch_02__acc__0.8732.h5',\n",
              " 'epoch_02__acc__0.8554.h5',\n",
              " 'epoch_01__acc__0.8707.h5']"
            ]
          },
          "metadata": {
            "tags": []
          },
          "execution_count": 39
        }
      ]
    },
    {
      "cell_type": "markdown",
      "metadata": {
        "id": "ewtCEJxjKS9v"
      },
      "source": [
        "## Task 7: Load Models"
      ]
    },
    {
      "cell_type": "code",
      "metadata": {
        "id": "7atIsbaiKS9w",
        "outputId": "3e8ff195-0b10-44b5-bfe3-e7f11b2215c5",
        "colab": {
          "base_uri": "https://localhost:8080/",
          "height": 34
        }
      },
      "source": [
        "model = create_model()\n",
        "print(model.evaluate(X_test, y_test, verbose=False))"
      ],
      "execution_count": 41,
      "outputs": [
        {
          "output_type": "stream",
          "text": [
            "[2.460688591003418, 0.09229999780654907]\n"
          ],
          "name": "stdout"
        }
      ]
    },
    {
      "cell_type": "code",
      "metadata": {
        "id": "M27UNUZuKS94",
        "outputId": "96ef71fa-d9d3-4a75-fb9d-7ab96aea9844",
        "colab": {
          "base_uri": "https://localhost:8080/",
          "height": 272
        }
      },
      "source": [
        "model = tf.keras.models.load_model('/content/models/epoch_01__acc__0.8707.h5')\n",
        "print(model.evaluate(X_test, y_test, verbose=False))\n",
        "model.summary()"
      ],
      "execution_count": 44,
      "outputs": [
        {
          "output_type": "stream",
          "text": [
            "[0.3637693226337433, 0.8707000017166138]\n",
            "Model: \"sequential_1\"\n",
            "_________________________________________________________________\n",
            "Layer (type)                 Output Shape              Param #   \n",
            "=================================================================\n",
            "dense_3 (Dense)              (None, 128)               100480    \n",
            "_________________________________________________________________\n",
            "dense_4 (Dense)              (None, 128)               16512     \n",
            "_________________________________________________________________\n",
            "dense_5 (Dense)              (None, 10)                1290      \n",
            "=================================================================\n",
            "Total params: 118,282\n",
            "Trainable params: 118,282\n",
            "Non-trainable params: 0\n",
            "_________________________________________________________________\n"
          ],
          "name": "stdout"
        }
      ]
    },
    {
      "cell_type": "markdown",
      "metadata": {
        "id": "CDI3nJyfKS-A"
      },
      "source": [
        "## Task 8: Manually Saving Weights and Models"
      ]
    },
    {
      "cell_type": "code",
      "metadata": {
        "id": "8xhj21J2KS-B",
        "outputId": "22827fb7-a51b-45e1-ba1e-996440763b4e",
        "colab": {
          "base_uri": "https://localhost:8080/",
          "height": 85
        }
      },
      "source": [
        "model.save_weights('/content/tmp/manually_saved.w')\n",
        "os.listdir('/content/tmp')"
      ],
      "execution_count": 45,
      "outputs": [
        {
          "output_type": "execute_result",
          "data": {
            "text/plain": [
              "['manually_saved.w.data-00000-of-00001',\n",
              " 'checkpoint',\n",
              " 'manually_saved.w.index',\n",
              " 'manually_saved.h5']"
            ]
          },
          "metadata": {
            "tags": []
          },
          "execution_count": 45
        }
      ]
    },
    {
      "cell_type": "code",
      "metadata": {
        "id": "3v59p80tKS-J",
        "outputId": "23a5daca-e915-4351-8392-3a6da2624168",
        "colab": {
          "base_uri": "https://localhost:8080/",
          "height": 85
        }
      },
      "source": [
        "model.save('tmp/manually_saved.h5')\n",
        "os.listdir('/content/tmp')"
      ],
      "execution_count": 46,
      "outputs": [
        {
          "output_type": "execute_result",
          "data": {
            "text/plain": [
              "['manually_saved.w.data-00000-of-00001',\n",
              " 'checkpoint',\n",
              " 'manually_saved.w.index',\n",
              " 'manually_saved.h5']"
            ]
          },
          "metadata": {
            "tags": []
          },
          "execution_count": 46
        }
      ]
    },
    {
      "cell_type": "markdown",
      "metadata": {
        "id": "aBxEAcfzKS-P"
      },
      "source": [
        "## Task 9: Exporting and Restoring SavedModel Format"
      ]
    },
    {
      "cell_type": "code",
      "metadata": {
        "id": "BN_22KomKS-R",
        "outputId": "163ddcd0-8e59-448f-a879-a48055e41d56",
        "colab": {
          "base_uri": "https://localhost:8080/",
          "height": 51
        }
      },
      "source": [
        "model.save('/content/model_name')\n",
        "os.listdir('/content/model_name')"
      ],
      "execution_count": 47,
      "outputs": [
        {
          "output_type": "stream",
          "text": [
            "INFO:tensorflow:Assets written to: /content/model_name/assets\n"
          ],
          "name": "stdout"
        },
        {
          "output_type": "execute_result",
          "data": {
            "text/plain": [
              "['assets', 'variables', 'saved_model.pb']"
            ]
          },
          "metadata": {
            "tags": []
          },
          "execution_count": 47
        }
      ]
    },
    {
      "cell_type": "code",
      "metadata": {
        "id": "__JZF3T4KS-Z",
        "outputId": "92388da0-fed1-4940-d0db-1de4b6b66fee",
        "colab": {
          "base_uri": "https://localhost:8080/",
          "height": 34
        }
      },
      "source": [
        "model = tf.keras.models.load_model('/content/model_name')\n",
        "print(model.evaluate(X_test, y_test, verbose=False))\n"
      ],
      "execution_count": 48,
      "outputs": [
        {
          "output_type": "stream",
          "text": [
            "[0.3637693226337433, 0.8707000017166138]\n"
          ],
          "name": "stdout"
        }
      ]
    }
  ]
}